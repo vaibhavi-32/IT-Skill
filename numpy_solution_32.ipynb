{
 "cells": [
  {
   "cell_type": "code",
   "execution_count": 1,
   "id": "9833991d-aa90-468a-936f-e1f126d065c6",
   "metadata": {},
   "outputs": [
    {
     "name": "stdout",
     "output_type": "stream",
     "text": [
      "hello\n"
     ]
    }
   ],
   "source": [
    "print(\"hello\")"
   ]
  },
  {
   "cell_type": "code",
   "execution_count": 3,
   "id": "926cd6e5-e020-4780-84ac-55f2d0346996",
   "metadata": {},
   "outputs": [
    {
     "name": "stdout",
     "output_type": "stream",
     "text": [
      "2.1.3\n"
     ]
    }
   ],
   "source": [
    "import numpy as np\n",
    "print(np.__version__)\n"
   ]
  },
  {
   "cell_type": "code",
   "execution_count": 5,
   "id": "adb0ade4-0215-4e06-9df8-1c2da2c7bcbd",
   "metadata": {},
   "outputs": [
    {
     "name": "stdout",
     "output_type": "stream",
     "text": [
      "[0 1 2 3 4 5 6 7 8 9]\n"
     ]
    }
   ],
   "source": [
    "arr=np.arange(10)\n",
    "print(arr)"
   ]
  },
  {
   "cell_type": "code",
   "execution_count": 6,
   "id": "a3f728ad-3fca-4cdc-8d64-b20fbdb2f4ed",
   "metadata": {},
   "outputs": [
    {
     "name": "stdout",
     "output_type": "stream",
     "text": [
      "[[ True  True  True]\n",
      " [ True  True  True]\n",
      " [ True  True  True]]\n",
      "[[ True  True  True]\n",
      " [ True  True  True]\n",
      " [ True  True  True]]\n"
     ]
    }
   ],
   "source": [
    "arr1=np.full((3,3),True,dtype=bool)\n",
    "print(arr1)\n",
    "arr2=np.full((3,3),True,dtype=bool)\n",
    "print(arr2)"
   ]
  },
  {
   "cell_type": "code",
   "execution_count": 7,
   "id": "94f02c15-f345-4077-859a-537934fac227",
   "metadata": {},
   "outputs": [
    {
     "data": {
      "text/plain": [
       "array([1, 3, 5, 7, 9])"
      ]
     },
     "execution_count": 7,
     "metadata": {},
     "output_type": "execute_result"
    }
   ],
   "source": [
    "import numpy as np\n",
    "\n",
    "arr = np.array([0, 1, 2, 3, 4, 5, 6, 7, 8, 9])\n",
    "arr[arr % 2 == 1]\n"
   ]
  },
  {
   "cell_type": "code",
   "execution_count": 8,
   "id": "5e92b18f-49f6-4e07-afe8-1601ab829bc7",
   "metadata": {},
   "outputs": [
    {
     "data": {
      "text/plain": [
       "array([ 0, -1,  2, -1,  4, -1,  6, -1,  8, -1])"
      ]
     },
     "execution_count": 8,
     "metadata": {},
     "output_type": "execute_result"
    }
   ],
   "source": [
    "import numpy as np\n",
    "\n",
    "arr = np.array([0, 1, 2, 3, 4, 5, 6, 7, 8, 9])\n",
    "arr[arr % 2 == 1] = -1\n",
    "arr\n"
   ]
  },
  {
   "cell_type": "code",
   "execution_count": 9,
   "id": "ece88d2a-c841-4bb3-b281-17d90e2b0408",
   "metadata": {},
   "outputs": [
    {
     "data": {
      "text/plain": [
       "array([[0, 1, 2, 3, 4],\n",
       "       [5, 6, 7, 8, 9]])"
      ]
     },
     "execution_count": 9,
     "metadata": {},
     "output_type": "execute_result"
    }
   ],
   "source": [
    "import numpy as np\n",
    "\n",
    "arr = np.arange(10)\n",
    "arr.reshape(2, -1)\n"
   ]
  },
  {
   "cell_type": "code",
   "execution_count": 10,
   "id": "c017fcd3-143b-47eb-8c01-0dc1d229633f",
   "metadata": {},
   "outputs": [
    {
     "data": {
      "text/plain": [
       "array([ 6,  9, 10])"
      ]
     },
     "execution_count": 10,
     "metadata": {},
     "output_type": "execute_result"
    }
   ],
   "source": [
    "import numpy as np\n",
    "\n",
    "a = np.array([2, 6, 1, 9, 10, 3, 27])\n",
    "a[(a >= 5) & (a <= 10)]\n"
   ]
  },
  {
   "cell_type": "code",
   "execution_count": 11,
   "id": "4b4801c5-626d-4dde-b37f-3c7004e310a4",
   "metadata": {},
   "outputs": [
    {
     "data": {
      "text/plain": [
       "array([[1, 0, 2],\n",
       "       [4, 3, 5],\n",
       "       [7, 6, 8]])"
      ]
     },
     "execution_count": 11,
     "metadata": {},
     "output_type": "execute_result"
    }
   ],
   "source": [
    "import numpy as np\n",
    "\n",
    "arr = np.arange(9).reshape(3, 3)\n",
    "arr[:, [1, 0, 2]]\n"
   ]
  },
  {
   "cell_type": "code",
   "execution_count": 12,
   "id": "eb10ac8e-ac67-4a51-91b3-feb5001f8e16",
   "metadata": {},
   "outputs": [
    {
     "data": {
      "text/plain": [
       "array([[3, 4, 5],\n",
       "       [0, 1, 2],\n",
       "       [6, 7, 8]])"
      ]
     },
     "execution_count": 12,
     "metadata": {},
     "output_type": "execute_result"
    }
   ],
   "source": [
    "import numpy as np\n",
    "\n",
    "arr = np.arange(9).reshape(3, 3)\n",
    "arr[[1, 0, 2], :]\n"
   ]
  },
  {
   "cell_type": "code",
   "execution_count": 14,
   "id": "3718f17e-b407-49f3-89a8-67d64ad53096",
   "metadata": {},
   "outputs": [
    {
     "name": "stdout",
     "output_type": "stream",
     "text": [
      "[1.123 2.988 3.142]\n"
     ]
    }
   ],
   "source": [
    "\n",
    "import numpy as np\n",
    "\n",
    "arr = np.array([1.123456, 2.987654, 3.141592])\n",
    "np.set_printoptions(precision=3)\n",
    "print(arr)\n",
    "\n"
   ]
  },
  {
   "cell_type": "code",
   "execution_count": 15,
   "id": "e73c7d36-8470-4201-a485-102f555d07ac",
   "metadata": {},
   "outputs": [
    {
     "data": {
      "text/plain": [
       "array([[0.122, 0.941, 0.911],\n",
       "       [0.828, 0.139, 0.806],\n",
       "       [0.034, 0.269, 0.598],\n",
       "       [0.603, 0.082, 0.097]])"
      ]
     },
     "execution_count": 15,
     "metadata": {},
     "output_type": "execute_result"
    }
   ],
   "source": [
    "import numpy as np\n",
    "\n",
    "rand_arr = np.random.random([5, 3])\n",
    "np.set_printoptions(precision=3)\n",
    "rand_arr[:4]\n"
   ]
  },
  {
   "cell_type": "code",
   "execution_count": 16,
   "id": "24396f43-125f-47fc-8f87-a325ab4d85cc",
   "metadata": {},
   "outputs": [
    {
     "data": {
      "text/plain": [
       "array([2, 4])"
      ]
     },
     "execution_count": 16,
     "metadata": {},
     "output_type": "execute_result"
    }
   ],
   "source": [
    "import numpy as np\n",
    "\n",
    "a = np.array([1, 2, 3, 2, 3, 4, 3, 4, 5, 6])\n",
    "b = np.array([7, 2, 10, 2, 7, 4, 9, 4, 9, 8])\n",
    "c = np.intersect1d(a, b)\n",
    "c\n"
   ]
  },
  {
   "cell_type": "code",
   "execution_count": 17,
   "id": "7c5d3b95-57f7-4da4-a5f2-1d389a9b7b68",
   "metadata": {},
   "outputs": [
    {
     "data": {
      "text/plain": [
       "array([1, 2, 3, 4])"
      ]
     },
     "execution_count": 17,
     "metadata": {},
     "output_type": "execute_result"
    }
   ],
   "source": [
    "import numpy as np\n",
    "\n",
    "a = np.array([1, 2, 3, 4, 5])\n",
    "b = np.array([5, 6, 7, 8, 9])\n",
    "c = np.setdiff1d(a, b)\n",
    "c\n"
   ]
  },
  {
   "cell_type": "code",
   "execution_count": 18,
   "id": "d932d76d-6fa3-403a-9e35-11fbb011e0f9",
   "metadata": {},
   "outputs": [
    {
     "data": {
      "text/plain": [
       "(array([1, 3, 5, 7]),)"
      ]
     },
     "execution_count": 18,
     "metadata": {},
     "output_type": "execute_result"
    }
   ],
   "source": [
    "import numpy as np\n",
    "\n",
    "a = np.array([1, 2, 3, 2, 3, 4, 3, 4, 5, 6])\n",
    "b = np.array([7, 2, 10, 2, 7, 4, 9, 4, 9, 8])\n",
    "np.where(a == b)\n"
   ]
  },
  {
   "cell_type": "code",
   "execution_count": 19,
   "id": "03c42d20-3974-4313-8b7c-44358b97250b",
   "metadata": {},
   "outputs": [
    {
     "data": {
      "text/plain": [
       "array([ 6,  9, 10])"
      ]
     },
     "execution_count": 19,
     "metadata": {},
     "output_type": "execute_result"
    }
   ],
   "source": [
    "import numpy as np\n",
    "\n",
    "a = np.array([2, 6, 1, 9, 10, 3, 27])\n",
    "a[(a >= 5) & (a <= 10)]\n"
   ]
  },
  {
   "cell_type": "code",
   "execution_count": 21,
   "id": "74aa0f8a-2c94-405f-a67c-2b79eca661ad",
   "metadata": {},
   "outputs": [
    {
     "name": "stdout",
     "output_type": "stream",
     "text": [
      "numpy array:\n",
      " [[12 45 23]\n",
      " [67 34 89]]\n",
      "\n",
      "sum of all vlaues in the array: 270\n"
     ]
    }
   ],
   "source": [
    "import numpy as np\n",
    "array_values = np.array([[12,45,23],[67,34,89]])\n",
    "total_sum = np.sum(array_values)\n",
    "print(\"numpy array:\\n\",array_values)\n",
    "print(\"\\nsum of all vlaues in the array:\", total_sum)"
   ]
  },
  {
   "cell_type": "code",
   "execution_count": 24,
   "id": "7ac44d63-5680-4342-bfe6-736f9cae27a3",
   "metadata": {},
   "outputs": [
    {
     "name": "stdout",
     "output_type": "stream",
     "text": [
      "3D numpy array with random floating-point number:\n",
      " [[[0.604 0.619 0.382 0.835]\n",
      "  [0.454 0.253 0.401 0.18 ]\n",
      "  [0.083 0.76  0.007 0.101]]\n",
      "\n",
      " [[0.612 0.248 0.925 0.502]\n",
      "  [0.948 0.071 0.243 0.801]\n",
      "  [0.065 0.608 0.356 0.481]]]\n"
     ]
    }
   ],
   "source": [
    "import numpy as np\n",
    "\n",
    "array_floats = np.random.rand(2, 3, 4)\n",
    "print(\"3D numpy array with random floating-point number:\\n\",array_floats)"
   ]
  },
  {
   "cell_type": "code",
   "execution_count": 25,
   "id": "69d722f9-56c0-442c-911c-19251c1838da",
   "metadata": {},
   "outputs": [
    {
     "name": "stdout",
     "output_type": "stream",
     "text": [
      "NumPy Array:\n",
      " [[12 45 23]\n",
      " [67 34 89]]\n",
      "\n",
      "Maximum Value in the Array: 89\n"
     ]
    }
   ],
   "source": [
    "import numpy as np\n",
    "array_values = np.array([[12, 45, 23], [67, 34, 89]])\n",
    "max_value = np.max(array_values)\n",
    "print(\"NumPy Array:\\n\", array_values)\n",
    "print(\"\\nMaximum Value in the Array:\", max_value)\n"
   ]
  },
  {
   "cell_type": "code",
   "execution_count": 26,
   "id": "83dc6e7e-4ffc-4223-9b1e-9e794eade494",
   "metadata": {},
   "outputs": [
    {
     "name": "stdout",
     "output_type": "stream",
     "text": [
      "NumPy Array:\n",
      " [[12 45 23]\n",
      " [67 34 89]]\n",
      "\n",
      "Minimum Value in the Array: 12\n"
     ]
    }
   ],
   "source": [
    "import numpy as np\n",
    "array_values = np.array([[12, 45, 23], [67, 34, 89]])\n",
    "min_value = np.min(array_values)\n",
    "print(\"NumPy Array:\\n\", array_values)\n",
    "print(\"\\nMinimum Value in the Array:\", min_value)\n"
   ]
  },
  {
   "cell_type": "code",
   "execution_count": 27,
   "id": "55d86078-eee6-41e0-a5df-f897359fd86a",
   "metadata": {},
   "outputs": [
    {
     "name": "stdout",
     "output_type": "stream",
     "text": [
      "NumPy Array:\n",
      " [[12 45 23]\n",
      " [67 34 89]]\n",
      "\n",
      "Median Value of the Array: 39.5\n"
     ]
    }
   ],
   "source": [
    "import numpy as np\n",
    "\n",
    "array_values = np.array([[12, 45, 23], [67, 34, 89]])\n",
    "median_value = np.median(array_values)\n",
    "print(\"NumPy Array:\\n\", array_values)\n",
    "print(\"\\nMedian Value of the Array:\", median_value)\n"
   ]
  },
  {
   "cell_type": "code",
   "execution_count": 28,
   "id": "b1670a97-bcc4-4e6e-aa74-b6bc7c2d822c",
   "metadata": {},
   "outputs": [
    {
     "name": "stdout",
     "output_type": "stream",
     "text": [
      "Array 1:\n",
      " [[1 2]\n",
      " [3 4]]\n",
      "\n",
      "Array 2:\n",
      " [[5 6]\n",
      " [7 8]]\n",
      "\n",
      "Dot Product Result:\n",
      " [[19 22]\n",
      " [43 50]]\n"
     ]
    }
   ],
   "source": [
    "import numpy as np\n",
    "\n",
    "array1 = np.array([[1, 2], [3, 4]])\n",
    "array2 = np.array([[5, 6], [7, 8]])\n",
    "\n",
    "dot_product = np.dot(array1, array2)\n",
    "\n",
    "print(\"Array 1:\\n\", array1)\n",
    "print(\"\\nArray 2:\\n\", array2)\n",
    "print(\"\\nDot Product Result:\\n\", dot_product)\n"
   ]
  },
  {
   "cell_type": "code",
   "execution_count": 29,
   "id": "4c52e161-bcf5-484f-ba00-806fed8027fb",
   "metadata": {},
   "outputs": [
    {
     "name": "stdout",
     "output_type": "stream",
     "text": [
      "Array 1: [1 2 3]\n",
      "Array 2: [4 5 6]\n",
      "\n",
      "Cross Product Result: [-3  6 -3]\n"
     ]
    }
   ],
   "source": [
    "import numpy as np\n",
    "\n",
    "array1 = np.array([1, 2, 3])\n",
    "array2 = np.array([4, 5, 6])\n",
    "\n",
    "cross_product = np.cross(array1, array2)\n",
    "\n",
    "print(\"Array 1:\", array1)\n",
    "print(\"Array 2:\", array2)\n",
    "print(\"\\nCross Product Result:\", cross_product)\n"
   ]
  },
  {
   "cell_type": "code",
   "execution_count": 30,
   "id": "d1fea73f-04c8-4e9a-9057-fcce774a6b58",
   "metadata": {},
   "outputs": [
    {
     "name": "stdout",
     "output_type": "stream",
     "text": [
      "Original Array:\n",
      " [[4 7]\n",
      " [2 6]]\n",
      "\n",
      "Inverse of the Array:\n",
      " [[ 0.6 -0.7]\n",
      " [-0.2  0.4]]\n"
     ]
    }
   ],
   "source": [
    "import numpy as np\n",
    "\n",
    "array = np.array([[4, 7], [2, 6]])\n",
    "\n",
    "inverse = np.linalg.inv(array)\n",
    "\n",
    "print(\"Original Array:\\n\", array)\n",
    "print(\"\\nInverse of the Array:\\n\", inverse)\n"
   ]
  },
  {
   "cell_type": "code",
   "execution_count": 32,
   "id": "c9f125bc-374d-45c3-bf04-973be93c6c68",
   "metadata": {},
   "outputs": [
    {
     "name": "stdout",
     "output_type": "stream",
     "text": [
      "Original Array: [1 2 3 4]\n",
      "Reversed Array: [4 3 2 1]\n"
     ]
    }
   ],
   "source": [
    "import numpy as np\n",
    "\n",
    "a = np.array([1, 2, 3, 4])\n",
    "reversed_a = a[::-1]\n",
    "\n",
    "print(\"Original Array:\", a)\n",
    "print(\"Reversed Array:\", reversed_a)\n"
   ]
  },
  {
   "cell_type": "code",
   "execution_count": 33,
   "id": "3267693d-c52a-414e-9510-99d3889fc716",
   "metadata": {},
   "outputs": [
    {
     "name": "stdout",
     "output_type": "stream",
     "text": [
      "Original Array:\n",
      " [[4 6]\n",
      " [3 8]]\n",
      "\n",
      "Determinant of the Array: 14.000000000000004\n"
     ]
    }
   ],
   "source": [
    "import numpy as np\n",
    "\n",
    "array = np.array([[4, 6], [3, 8]])\n",
    "\n",
    "determinant = np.linalg.det(array)\n",
    "\n",
    "print(\"Original Array:\\n\", array)\n",
    "print(\"\\nDeterminant of the Array:\", determinant)\n"
   ]
  },
  {
   "cell_type": "code",
   "execution_count": 34,
   "id": "7f16a9e5-345d-4a13-85a9-c840d82bc617",
   "metadata": {},
   "outputs": [
    {
     "name": "stdout",
     "output_type": "stream",
     "text": [
      "[[1 2 5 6]\n",
      " [3 4 7 8]]\n",
      "[[1 2]\n",
      " [3 4]\n",
      " [5 6]\n",
      " [7 8]]\n"
     ]
    }
   ],
   "source": [
    "import numpy as np\n",
    "\n",
    "a = np.array([[1, 2], [3, 4]])\n",
    "b = np.array([[5, 6], [7, 8]])\n",
    "result = np.hstack((a,b))\n",
    "result1 = np.vstack((a,b))\n",
    "print(result)\n",
    "print(result1)"
   ]
  },
  {
   "cell_type": "code",
   "execution_count": 35,
   "id": "51d18eee-00e3-4758-a564-4cf6cc2e7ddb",
   "metadata": {},
   "outputs": [
    {
     "name": "stdout",
     "output_type": "stream",
     "text": [
      "Original Array: [3 1 4 2]\n",
      "Sorted Array: [1 2 3 4]\n"
     ]
    }
   ],
   "source": [
    "import numpy as np\n",
    "\n",
    "arr = np.array([ 3, 1, 4,2])\n",
    "sorted_arr = np.sort(arr)\n",
    "\n",
    "print(\"Original Array:\", arr)\n",
    "print(\"Sorted Array:\", sorted_arr)\n"
   ]
  },
  {
   "cell_type": "code",
   "execution_count": 37,
   "id": "788329f9-6e2f-4922-9fab-5cbd131d5abd",
   "metadata": {},
   "outputs": [
    {
     "name": "stdout",
     "output_type": "stream",
     "text": [
      "Original Array: [[3 1 4 2]\n",
      " [7 8 2 0]]\n",
      "Sorted Array: [[1 2 3 4]\n",
      " [0 2 7 8]]\n"
     ]
    }
   ],
   "source": [
    "import numpy as np\n",
    "\n",
    "arr = np.array([[ 3, 1, 4,2],[7,8,2,0]])\n",
    "sorted_arr = np.sort(arr)\n",
    "\n",
    "print(\"Original Array:\", arr)\n",
    "print(\"Sorted Array:\", sorted_arr)\n"
   ]
  },
  {
   "cell_type": "code",
   "execution_count": 39,
   "id": "b36d36fc-5188-43ce-9029-8f248f744860",
   "metadata": {},
   "outputs": [
    {
     "name": "stdout",
     "output_type": "stream",
     "text": [
      "Original Array: [[3 1 4 2]\n",
      " [0 9 2 5]]\n",
      "Descending Sorted Array: [[0 2 5 9]\n",
      " [1 2 3 4]]\n"
     ]
    }
   ],
   "source": [
    "import numpy as np  \n",
    "\n",
    "arr = np.array([[3,1,4,2],[0,9,2,5]]) \n",
    "sorted_arr = np.sort(arr)[::-1] \n",
    "print(\"Original Array:\", arr)\n",
    "print(\"Descending Sorted Array:\", sorted_arr) "
   ]
  },
  {
   "cell_type": "code",
   "execution_count": null,
   "id": "4d0cf042-5edd-491c-ae40-017532aa82af",
   "metadata": {},
   "outputs": [],
   "source": []
  }
 ],
 "metadata": {
  "kernelspec": {
   "display_name": "Python 3 (ipykernel)",
   "language": "python",
   "name": "python3"
  },
  "language_info": {
   "codemirror_mode": {
    "name": "ipython",
    "version": 3
   },
   "file_extension": ".py",
   "mimetype": "text/x-python",
   "name": "python",
   "nbconvert_exporter": "python",
   "pygments_lexer": "ipython3",
   "version": "3.13.5"
  }
 },
 "nbformat": 4,
 "nbformat_minor": 5
}
