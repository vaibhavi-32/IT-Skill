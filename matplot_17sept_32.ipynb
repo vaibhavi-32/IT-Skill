{
 "cells": [
  {
   "cell_type": "code",
   "execution_count": 12,
   "id": "419baae1-59c1-41db-9f16-a19e7a9c3b20",
   "metadata": {},
   "outputs": [
    {
     "name": "stdout",
     "output_type": "stream",
     "text": [
      "      Name  Age Gender  Grade  Marks\n",
      "0    Alice   20      F     10     85\n",
      "1      Bob   19      M     10     78\n",
      "2  Charlie   21      M     11     92\n",
      "3    Diana   20      F     11     88\n",
      "4    Ethan   22      M     12     76\n",
      "5    Fiona   19      F     12     95\n"
     ]
    }
   ],
   "source": [
    "import pandas as pd\n",
    "df = pd.read_csv(\"Z:\\ITSkills\\students.csv\")\n",
    "print(df)"
   ]
  },
  {
   "cell_type": "code",
   "execution_count": 16,
   "id": "691e3d66-6e2e-4851-a3d2-193d6a664249",
   "metadata": {},
   "outputs": [
    {
     "name": "stdout",
     "output_type": "stream",
     "text": [
      "\n",
      "First 3 rows of the DataFrame:\n",
      "      Name  Age Gender  Grade  Marks\n",
      "0    Alice   20      F     10     85\n",
      "1      Bob   19      M     10     78\n",
      "2  Charlie   21      M     11     92\n"
     ]
    }
   ],
   "source": [
    "df = pd.read_csv(\"Z:\\ITSkills\\students.csv\")\n",
    "print(\"\\nFirst 3 rows of the DataFrame:\")\n",
    "print(df.head(3))"
   ]
  },
  {
   "cell_type": "code",
   "execution_count": 19,
   "id": "6d429aa9-8ddf-441e-a987-db67a94319a0",
   "metadata": {},
   "outputs": [
    {
     "name": "stdout",
     "output_type": "stream",
     "text": [
      "      Name  Age Gender  Grade  Marks\n",
      "0    Alice   20      F     10     85\n",
      "1      Bob   19      M     10     78\n",
      "2  Charlie   21      M     11     92\n",
      "3    Diana   20      F     11     88\n",
      "4    Ethan   22      M     12     76\n",
      "5    Fiona   19      F     12     95\n"
     ]
    }
   ],
   "source": [
    "df = pd.read_excel(\"Z:\\ITSkills\\STUDENT.xlsx\")\n",
    "print(df)"
   ]
  },
  {
   "cell_type": "code",
   "execution_count": 20,
   "id": "a3d4d4d8-b022-49be-b354-6b55be544c6f",
   "metadata": {},
   "outputs": [
    {
     "name": "stdout",
     "output_type": "stream",
     "text": [
      "<class 'pandas.core.frame.DataFrame'>\n",
      "RangeIndex: 6 entries, 0 to 5\n",
      "Data columns (total 5 columns):\n",
      " #   Column  Non-Null Count  Dtype \n",
      "---  ------  --------------  ----- \n",
      " 0   Name    6 non-null      object\n",
      " 1   Age     6 non-null      int64 \n",
      " 2   Gender  6 non-null      object\n",
      " 3   Grade   6 non-null      int64 \n",
      " 4   Marks   6 non-null      int64 \n",
      "dtypes: int64(3), object(2)\n",
      "memory usage: 372.0+ bytes\n"
     ]
    }
   ],
   "source": [
    "df.info()"
   ]
  },
  {
   "cell_type": "code",
   "execution_count": 21,
   "id": "fe0ef90e-7365-441e-9433-0848a6d9a4f4",
   "metadata": {},
   "outputs": [
    {
     "name": "stdout",
     "output_type": "stream",
     "text": [
      "      Name  Age Gender  Grade  Marks\n",
      "0    Alice   20      F     10     85\n",
      "2  Charlie   21      M     11     92\n",
      "3    Diana   20      F     11     88\n",
      "5    Fiona   19      F     12     95\n"
     ]
    }
   ],
   "source": [
    "filtered_df = df[df['Marks'] > 80]\n",
    "print(filtered_df)"
   ]
  },
  {
   "cell_type": "code",
   "execution_count": 23,
   "id": "7db249c5-d93c-466a-9984-75772a2132d6",
   "metadata": {},
   "outputs": [
    {
     "name": "stdout",
     "output_type": "stream",
     "text": [
      "    Name  Age Gender  Grade  Marks\n",
      "0  Alice   20      F     10     85\n",
      "3  Diana   20      F     11     88\n",
      "5  Fiona   19      F     12     95\n"
     ]
    }
   ],
   "source": [
    "female_students = df[df['Gender'] == 'F']\n",
    "print(female_students)"
   ]
  },
  {
   "cell_type": "code",
   "execution_count": 24,
   "id": "3adaa9e2-82c4-45a8-a957-c0cb4bf3c39f",
   "metadata": {},
   "outputs": [
    {
     "name": "stdout",
     "output_type": "stream",
     "text": [
      "      Name  Marks\n",
      "0    Alice     85\n",
      "1      Bob     78\n",
      "2  Charlie     92\n",
      "3    Diana     88\n",
      "4    Ethan     76\n",
      "5    Fiona     95\n"
     ]
    }
   ],
   "source": [
    "print(df[['Name', 'Marks']])"
   ]
  },
  {
   "cell_type": "code",
   "execution_count": 25,
   "id": "f97f6ca2-75a6-4f7e-924c-50ae2fe13cd4",
   "metadata": {},
   "outputs": [
    {
     "name": "stdout",
     "output_type": "stream",
     "text": [
      "         Age Gender  Grade  Marks\n",
      "Name                             \n",
      "Alice     20      F     10     85\n",
      "Bob       19      M     10     78\n",
      "Charlie   21      M     11     92\n",
      "Diana     20      F     11     88\n",
      "Ethan     22      M     12     76\n",
      "Fiona     19      F     12     95\n"
     ]
    }
   ],
   "source": [
    "df = df.set_index('Name')\n",
    "print(df)"
   ]
  },
  {
   "cell_type": "code",
   "execution_count": 26,
   "id": "bd58ee10-0ac7-4b8c-8aa1-0c41dad70b9c",
   "metadata": {},
   "outputs": [
    {
     "name": "stdout",
     "output_type": "stream",
     "text": [
      "         Age Gender  Grade  Marks\n",
      "Name                             \n",
      "Fiona     19      F     12     95\n",
      "Charlie   21      M     11     92\n",
      "Diana     20      F     11     88\n",
      "Alice     20      F     10     85\n",
      "Bob       19      M     10     78\n",
      "Ethan     22      M     12     76\n"
     ]
    }
   ],
   "source": [
    "sorted_df = df.sort_values(by='Marks', ascending=False)\n",
    "print(sorted_df)"
   ]
  },
  {
   "cell_type": "code",
   "execution_count": 27,
   "id": "472cbe9d-b584-41bf-b784-631cf3c3a68a",
   "metadata": {},
   "outputs": [
    {
     "name": "stdout",
     "output_type": "stream",
     "text": [
      "         Age Gender  Grade  Marks Result\n",
      "Name                                    \n",
      "Alice     20      F     10     85   Pass\n",
      "Bob       19      M     10     78   Fail\n",
      "Charlie   21      M     11     92   Pass\n",
      "Diana     20      F     11     88   Pass\n",
      "Ethan     22      M     12     76   Fail\n",
      "Fiona     19      F     12     95   Pass\n"
     ]
    }
   ],
   "source": [
    "df['Result'] = df['Marks'].apply(lambda x: 'Pass' if x >= 80 else 'Fail')\n",
    "print(df)"
   ]
  },
  {
   "cell_type": "code",
   "execution_count": 28,
   "id": "d14d2030-f4a2-4623-87e7-02acc382b64d",
   "metadata": {},
   "outputs": [
    {
     "name": "stdout",
     "output_type": "stream",
     "text": [
      "         Age Gender  Grade  Marks Result\n",
      "Name                                    \n",
      "Charlie   21      M     11     92   Pass\n",
      "Diana     20      F     11     88   Pass\n"
     ]
    }
   ],
   "source": [
    "filtered_df = df[(df['Grade'] == 11) & (df['Marks'] > 85)]\n",
    "print(filtered_df)"
   ]
  },
  {
   "cell_type": "code",
   "execution_count": 29,
   "id": "8a631744-c044-49d5-81e6-f898d6c25ad1",
   "metadata": {},
   "outputs": [
    {
     "name": "stdout",
     "output_type": "stream",
     "text": [
      "Average Marks: 85.66666666666667\n"
     ]
    }
   ],
   "source": [
    "average_marks = df['Marks'].mean()\n",
    "print(f\"Average Marks: {average_marks}\")"
   ]
  },
  {
   "cell_type": "code",
   "execution_count": 30,
   "id": "5630d2eb-e4a7-4b94-abae-2ed930ee7a9c",
   "metadata": {},
   "outputs": [
    {
     "name": "stdout",
     "output_type": "stream",
     "text": [
      "Gender\n",
      "F    3\n",
      "M    3\n",
      "Name: count, dtype: int64\n"
     ]
    }
   ],
   "source": [
    "counts = df['Gender'].value_counts()\n",
    "print(counts)"
   ]
  },
  {
   "cell_type": "code",
   "execution_count": 31,
   "id": "e42d1a03-09b0-444e-895a-cb8267ae3915",
   "metadata": {},
   "outputs": [
    {
     "name": "stdout",
     "output_type": "stream",
     "text": [
      "Filtered data saved to top_students.csv\n"
     ]
    }
   ],
   "source": [
    "top_students = df[df['Marks'] > 80]\n",
    "top_students.to_csv('top_students.csv', index=False)\n",
    "print(\"Filtered data saved to top_students.csv\")"
   ]
  },
  {
   "cell_type": "code",
   "execution_count": 32,
   "id": "7b1902af-4d97-4cdf-852b-eb451329e8e9",
   "metadata": {},
   "outputs": [
    {
     "name": "stdout",
     "output_type": "stream",
     "text": [
      "      Name  Age Gender  Grade  Marks Result\n",
      "0    Alice   20      F     10     85   Pass\n",
      "1      Bob   19      M     10     78   Fail\n",
      "2  Charlie   21      M     11     92   Pass\n",
      "3    Diana   20      F     11     88   Pass\n",
      "4    Ethan   22      M     12     76   Fail\n",
      "5    Fiona   19      F     12     95   Pass\n"
     ]
    }
   ],
   "source": [
    "df = df.reset_index()\n",
    "print(df)"
   ]
  },
  {
   "cell_type": "code",
   "execution_count": 1,
   "id": "dd75c617-09dd-4232-9626-0bbf383eb68a",
   "metadata": {},
   "outputs": [
    {
     "data": {
      "image/png": "[encoded data removed]",
      "text/plain": [
       "<Figure size 640x480 with 1 Axes>"
      ]
     },
     "metadata": {},
     "output_type": "display_data"
    }
   ],
   "source": [
    "import matplotlib.pyplot as plt\n",
    "\n",
    "names = ['Alice', 'Bob', 'Charlie', 'David', 'Eva']\n",
    "grades = [85, 90, 78, 92, 88]\n",
    "\n",
    "plt.plot(names, grades, marker='o') \n",
    "plt.title('Grades by Name')\n",
    "plt.xlabel('Name')\n",
    "plt.ylabel('Grade')\n",
    "plt.grid(True)  \n",
    "plt.show()\n"
   ]
  },
  {
   "cell_type": "code",
   "execution_count": 4,
   "id": "46f32a83-476f-4cda-b33a-efe8bff517b6",
   "metadata": {},
   "outputs": [
    {
     "name": "stdout",
     "output_type": "stream",
     "text": [
      "     Name  Height Qualification Category\n",
      "0  Pandas       1             A    Short\n",
      "1   Geeks       2             B    Short\n",
      "2     for       3             C     Tall\n",
      "3   Geeks       4             D     Tall\n"
     ]
    }
   ],
   "source": [
    "import pandas as pd\n",
    "\n",
    "data = {'Name': ['Pandas', 'Geeks', 'for', 'Geeks'],\n",
    "        'Height': [1, 2, 3, 4],\n",
    "        'Qualification': ['A', 'B', 'C', 'D']}\n",
    "\n",
    "df = pd.DataFrame(data)\n",
    "\n",
    "df.loc[df['Height'] >= 3, 'Category'] = 'Tall'\n",
    "df.loc[df['Height'] < 3, 'Category'] = 'Short'\n",
    "\n",
    "print(df)\n"
   ]
  },
  {
   "cell_type": "code",
   "execution_count": 5,
   "id": "185025a7-a77a-48e9-8c5e-1009bb8f1991",
   "metadata": {},
   "outputs": [
    {
     "name": "stdout",
     "output_type": "stream",
     "text": [
      "      Name Marks Grade\n",
      "0    Bruce    81     B\n",
      "1     Tony    89     B\n",
      "2  Natasha    93     A\n",
      "3    Steve    72     C\n"
     ]
    }
   ],
   "source": [
    "import pandas as pd\n",
    "\n",
    "data = {'Name': ['Bruce', 'Tony', 'Natasha', 'Steve'],\n",
    "        'Marks': ['81', '89', '93', '72']}\n",
    "dataframe = pd.DataFrame(data)\n",
    "\n",
    "dataframe['Grade'] = ['B', 'B', 'A', 'C']\n",
    "\n",
    "print(dataframe)\n"
   ]
  },
  {
   "cell_type": "code",
   "execution_count": 6,
   "id": "b4936266-69cf-4f9f-b8e4-2cc83324d0b5",
   "metadata": {},
   "outputs": [
    {
     "name": "stdout",
     "output_type": "stream",
     "text": [
      "      Name  Marks Grade\n",
      "0    Bruce     81     B\n",
      "1     Tony     89     B\n",
      "2  Natasha     93     A\n",
      "3    Steve     72     C\n"
     ]
    }
   ],
   "source": [
    "import pandas as pd\n",
    "\n",
    "data = {'Name': ['Bruce', 'Tony', 'Natasha', 'Steve'],\n",
    "        'Marks': [81, 89, 93, 72]}\n",
    "\n",
    "df = pd.DataFrame(data)\n",
    "\n",
    "def grade_calc(grade):\n",
    "    if grade > 90:\n",
    "        return 'A'\n",
    "    elif grade > 80 and grade <= 90:\n",
    "        return 'B'\n",
    "    elif grade > 60:\n",
    "        return 'C'\n",
    "    else:\n",
    "        return 'D'\n",
    "\n",
    "df['Grade'] = df['Marks'].apply(grade_calc)\n",
    "\n",
    "print(df)\n"
   ]
  },
  {
   "cell_type": "code",
   "execution_count": null,
   "id": "3807b9b0-a060-4697-8360-b2dfbec1503d",
   "metadata": {},
   "outputs": [],
   "source": []
  }
 ],
 "metadata": {
  "kernelspec": {
   "display_name": "Python 3 (ipykernel)",
   "language": "python",
   "name": "python3"
  },
  "language_info": {
   "codemirror_mode": {
    "name": "ipython",
    "version": 3
   },
   "file_extension": ".py",
   "mimetype": "text/x-python",
   "name": "python",
   "nbconvert_exporter": "python",
   "pygments_lexer": "ipython3",
   "version": "3.13.5"
  }
 },
 "nbformat": 4,
 "nbformat_minor": 5
}
